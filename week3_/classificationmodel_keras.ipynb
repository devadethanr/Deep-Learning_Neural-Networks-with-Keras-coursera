{
 "cells": [
  {
   "cell_type": "code",
   "execution_count": null,
   "metadata": {},
   "outputs": [],
   "source": [
    "#classification model, using keras\n",
    "\n",
    "import keras\n",
    "from keras.models import Sequential\n",
    "from keras.layers import Dense\n",
    "from keras.utils import to_categorical\n",
    "\n",
    "# n_cols = car_data.shape[1]\n",
    "# train_target = to_categorical(target) converting target column into a set of arrays\n",
    "\n",
    "model = Sequential()\n",
    "\n",
    "\n",
    "model.add(Dense(5, activation='relu', input_shape=(n_cols,)))\n",
    "model.add(Dense(5, activation='relu'))\n",
    "model.add(Dense(4, activation='softmax')) #4 nodes for each classes 1-4 for car values and softmax for summing the output to exactly 1.\n",
    "\n",
    "model.compile(optimizer='adam', loss='categorical_crossentropy',metrics=['accuracy']) #categorical_crossentropy as loss fn for the classification \n",
    "\n",
    "model.fit(train_data, train_target, epochs=10)\n",
    "\n",
    "prediction = model.predict(test_data)"
   ]
  }
 ],
 "metadata": {
  "language_info": {
   "name": "python"
  }
 },
 "nbformat": 4,
 "nbformat_minor": 2
}
