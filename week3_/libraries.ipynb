{
 "cells": [
  {
   "cell_type": "code",
   "execution_count": 13,
   "metadata": {},
   "outputs": [
    {
     "name": "stdout",
     "output_type": "stream",
     "text": [
      "   cement  blast_furnace_slag  fly_ash  water  superplasticizer  \\\n",
      "0   540.0                 0.0      0.0  162.0               2.5   \n",
      "1   540.0                 0.0      0.0  162.0               2.5   \n",
      "2   332.5               142.5      0.0  228.0               0.0   \n",
      "3   332.5               142.5      0.0  228.0               0.0   \n",
      "4   198.6               132.4      0.0  192.0               0.0   \n",
      "\n",
      "   coarse_aggregate  fine_aggregate   age  concrete_compressive_strength  \n",
      "0            1040.0            676.0   28                          79.99  \n",
      "1            1055.0            676.0   28                          61.89  \n",
      "2             932.0            594.0  270                          40.27  \n",
      "3             932.0            594.0  365                          41.05  \n",
      "4             978.4            825.5  360                          44.30  \n",
      "Shapes of datasets:\n",
      "Test Data: (824, 8)\n",
      "Train Data: (206, 8)\n",
      "Test Target: (824,)\n",
      "Train Target: (206,)\n"
     ]
    }
   ],
   "source": [
    "import pandas as pd\n",
    "from sklearn.model_selection import train_test_split\n",
    "\n",
    "df = 'concrete_data.csv'\n",
    "concrete_data = pd.read_csv(df)\n",
    "\n",
    "print(concrete_data.head(5))\n",
    "predictors = concrete_data.drop('concrete_compressive_strength', axis=1)\n",
    "target = concrete_data['concrete_compressive_strength']\n",
    "\n",
    "test_size = 0.2  # You can adjust this according to your preference\n",
    "test_data, train_data, test_target, train_target = train_test_split(predictors, target, test_size=test_size, random_state=42)\n",
    "\n",
    "# Display the shapes of the datasets\n",
    "print(\"Shapes of datasets:\")\n",
    "print(\"Test Data:\", test_data.shape)\n",
    "print(\"Train Data:\", train_data.shape)\n",
    "print(\"Test Target:\", test_target.shape)\n",
    "print(\"Train Target:\", train_target.shape)\n"
   ]
  },
  {
   "cell_type": "code",
   "execution_count": 4,
   "metadata": {},
   "outputs": [],
   "source": [
    "import keras\n",
    "from keras.models import Sequential\n",
    "from keras.layers import Dense\n",
    "\n",
    "model = Sequential()\n",
    "n_cols = concrete_data.shape[1]\n",
    "\n",
    "model.add(Dense(5, activation='relu', input_shape=(n_cols,)))\n",
    "model.add(Dense(5, activation='relu'))\n",
    "model.add(Dense(1))\n",
    "\n",
    "model.compile(optimizer='adam', loss='mean_squared_error')\n",
    "model.fit(predictors,target)\n",
    "\n",
    "prediction = model.predict(test_data)"
   ]
  },
  {
   "cell_type": "code",
   "execution_count": null,
   "metadata": {},
   "outputs": [],
   "source": [
    "#nodes that connect to all other nodes in the next layer anc vice verse, that type of network is called dense neural network\n",
    " "
   ]
  }
 ],
 "metadata": {
  "kernelspec": {
   "display_name": "Python 3",
   "language": "python",
   "name": "python3"
  },
  "language_info": {
   "codemirror_mode": {
    "name": "ipython",
    "version": 3
   },
   "file_extension": ".py",
   "mimetype": "text/x-python",
   "name": "python",
   "nbconvert_exporter": "python",
   "pygments_lexer": "ipython3",
   "version": "3.11.4"
  }
 },
 "nbformat": 4,
 "nbformat_minor": 2
}
