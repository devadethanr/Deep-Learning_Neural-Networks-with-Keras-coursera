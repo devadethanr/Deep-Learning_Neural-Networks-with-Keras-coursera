{
 "cells": [
  {
   "cell_type": "code",
   "execution_count": 23,
   "metadata": {},
   "outputs": [
    {
     "name": "stdout",
     "output_type": "stream",
     "text": [
      "   cement  blast_furnace_slag  fly_ash  water  superplasticizer  \\\n",
      "0   540.0                 0.0      0.0  162.0               2.5   \n",
      "1   540.0                 0.0      0.0  162.0               2.5   \n",
      "2   332.5               142.5      0.0  228.0               0.0   \n",
      "3   332.5               142.5      0.0  228.0               0.0   \n",
      "4   198.6               132.4      0.0  192.0               0.0   \n",
      "\n",
      "   coarse_aggregate  fine_aggregate   age  concrete_compressive_strength  \n",
      "0            1040.0            676.0   28                          79.99  \n",
      "1            1055.0            676.0   28                          61.89  \n",
      "2             932.0            594.0  270                          40.27  \n",
      "3             932.0            594.0  365                          41.05  \n",
      "4             978.4            825.5  360                          44.30  \n",
      "Shapes of datasets:\n",
      "Test Data: (206, 8)\n",
      "Train Data: (824, 8)\n",
      "Test Target: (206,)\n",
      "Train Target: (824,)\n"
     ]
    }
   ],
   "source": [
    "import pandas as pd\n",
    "from sklearn.model_selection import train_test_split\n",
    "\n",
    "df = 'concrete_data.csv'\n",
    "concrete_data = pd.read_csv(df)\n",
    "\n",
    "print(concrete_data.head(5))\n",
    "predictors = concrete_data.drop('concrete_compressive_strength', axis=1)\n",
    "target = concrete_data['concrete_compressive_strength']\n",
    "\n",
    "test_size = 0.2 \n",
    "train_data, test_data, train_target, test_target = train_test_split(predictors, target, test_size=test_size, random_state=42)\n",
    "\n",
    "# Display the shapes of the datasets\n",
    "print(\"Shapes of datasets:\")\n",
    "print(\"Test Data:\", test_data.shape)\n",
    "print(\"Train Data:\", train_data.shape)\n",
    "print(\"Test Target:\", test_target.shape)\n",
    "print(\"Train Target:\", train_target.shape)\n"
   ]
  },
  {
   "cell_type": "code",
   "execution_count": 31,
   "metadata": {},
   "outputs": [
    {
     "name": "stdout",
     "output_type": "stream",
     "text": [
      "Epoch 1/10\n",
      "26/26 [==============================] - 1s 12ms/step - loss: 8261.3633 - val_loss: 3275.5364\n",
      "Epoch 2/10\n",
      "26/26 [==============================] - 0s 8ms/step - loss: 2197.0671 - val_loss: 1272.6387\n",
      "Epoch 3/10\n",
      "26/26 [==============================] - 0s 5ms/step - loss: 1366.0466 - val_loss: 1017.4620\n",
      "Epoch 4/10\n",
      "26/26 [==============================] - 0s 5ms/step - loss: 1140.7643 - val_loss: 882.3240\n",
      "Epoch 5/10\n",
      "26/26 [==============================] - 0s 5ms/step - loss: 1007.5075 - val_loss: 782.3167\n",
      "Epoch 6/10\n",
      "26/26 [==============================] - 0s 5ms/step - loss: 904.3797 - val_loss: 713.2866\n",
      "Epoch 7/10\n",
      "26/26 [==============================] - 0s 6ms/step - loss: 824.6391 - val_loss: 645.8309\n",
      "Epoch 8/10\n",
      "26/26 [==============================] - 0s 5ms/step - loss: 749.2538 - val_loss: 586.1657\n",
      "Epoch 9/10\n",
      "26/26 [==============================] - 0s 6ms/step - loss: 682.7335 - val_loss: 531.9696\n",
      "Epoch 10/10\n",
      "26/26 [==============================] - 0s 6ms/step - loss: 620.7178 - val_loss: 484.1259\n",
      "7/7 [==============================] - 0s 2ms/step\n"
     ]
    }
   ],
   "source": [
    "import keras\n",
    "from keras.models import Sequential\n",
    "from keras.layers import Dense\n",
    "\n",
    "model = Sequential()\n",
    "n_cols = predictors.shape[1]\n",
    "\n",
    "model.add(Dense(5, activation='relu', input_shape=(n_cols,)))\n",
    "model.add(Dense(5, activation='relu'))\n",
    "model.add(Dense(1))\n",
    "\n",
    "model.compile(optimizer='adam', loss='mean_squared_error')\n",
    "model.fit(train_data, train_target, epochs=10, batch_size=32, validation_data=(test_data, test_target))\n",
    "\n",
    "prediction = model.predict(test_data)\n",
    "# print(prediction)"
   ]
  },
  {
   "cell_type": "code",
   "execution_count": null,
   "metadata": {},
   "outputs": [],
   "source": [
    "#nodes that connect to all other nodes in the next layer anc vice verse, that type of network is called dense neural network\n",
    " "
   ]
  }
 ],
 "metadata": {
  "kernelspec": {
   "display_name": "Python 3",
   "language": "python",
   "name": "python3"
  },
  "language_info": {
   "codemirror_mode": {
    "name": "ipython",
    "version": 3
   },
   "file_extension": ".py",
   "mimetype": "text/x-python",
   "name": "python",
   "nbconvert_exporter": "python",
   "pygments_lexer": "ipython3",
   "version": "3.11.4"
  }
 },
 "nbformat": 4,
 "nbformat_minor": 2
}
