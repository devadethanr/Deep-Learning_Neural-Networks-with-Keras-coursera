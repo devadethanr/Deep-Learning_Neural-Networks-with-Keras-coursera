{
 "cells": [
  {
   "cell_type": "code",
   "execution_count": 6,
   "metadata": {},
   "outputs": [],
   "source": [
    "import keras\n",
    "from keras.models import Sequential\n",
    "from keras.layers import Dense\n",
    "from keras.layers import Conv2D\n",
    "from keras.layers import MaxPooling2D, Flatten"
   ]
  },
  {
   "cell_type": "code",
   "execution_count": null,
   "metadata": {},
   "outputs": [],
   "source": [
    "model = Sequential()\n",
    "\n",
    "#shape of image and number of image = 3 for rgb\n",
    "input_shape = (128,128,3)\n",
    "\n",
    "#adding convolutional and pooling layers\n",
    "model.add(Conv2D(16, kernel_size=(2, 2), strides=(1,1),\n",
    "                 activation='relu',\n",
    "                 input_shape=input_shape))\n",
    "model.add(MaxPooling2D(pool_size=(2, 2), strides=(2, 2)))\n",
    "#second con and pool layers\n",
    "model.add(Conv2D(32, kernel_size=(2, 2), activation='relu'))\n",
    "model.add(MaxPooling2D(pool_size=(2, 2)))\n",
    "\n",
    "#flatter to convert output for the dense layer for fully connected network\n",
    "model.add(Flatten())\n",
    "#adding fully connected layers by putting dense layers as hidden layers\n",
    "model.add(Dense(100, activation='relu'))\n",
    "#output layer and creating probabilty of output using softmax fn for categorizing\n",
    "model.add(Dense(num_classes, activation='softmax'))\n"
   ]
  },
  {
   "cell_type": "markdown",
   "metadata": {},
   "source": [
    "## Lab Assessment and Building CNN model"
   ]
  },
  {
   "cell_type": "code",
   "execution_count": 9,
   "metadata": {},
   "outputs": [],
   "source": [
    "#CNN using keras\n",
    "import keras\n",
    "from keras.models import Sequential\n",
    "from keras.layers import Dense\n",
    "from keras.utils import to_categorical\n",
    "\n",
    "#packages for CNN\n",
    "from keras.layers import Conv2D, MaxPooling2D, Flatten"
   ]
  },
  {
   "cell_type": "code",
   "execution_count": 23,
   "metadata": {},
   "outputs": [],
   "source": [
    "#convolutional layer with 1 set of conv and pooling layers\n",
    "from keras.datasets import mnist\n",
    "# load data\n",
    "(X_train, y_train), (X_test, y_test) = mnist.load_data()\n",
    "# reshape to be [samples][pixels][width][height]\n",
    "X_train = X_train.reshape(X_train.shape[0], 28, 28, 1).astype('float32')\n",
    "X_test = X_test.reshape(X_test.shape[0], 28, 28, 1).astype('float32')"
   ]
  },
  {
   "cell_type": "code",
   "execution_count": 24,
   "metadata": {},
   "outputs": [],
   "source": [
    "#normalizing pixel values to be 0 and 1\n",
    "X_train = X_train / 255\n",
    "X_test = X_test / 255 "
   ]
  },
  {
   "cell_type": "code",
   "execution_count": 25,
   "metadata": {},
   "outputs": [],
   "source": [
    "#converting target variables into binary categ\n",
    "y_train = to_categorical(y_train)\n",
    "y_test = to_categorical(y_test)\n",
    "\n",
    "num_classes = y_test.shape[1] # number of categories"
   ]
  },
  {
   "cell_type": "code",
   "execution_count": 26,
   "metadata": {},
   "outputs": [],
   "source": [
    "#defining fn for model : 1Con and 1Pool\n",
    "\n",
    "def cnn_model():\n",
    "    model = Sequential()\n",
    "    model.add(Conv2D(16, (5, 5), strides=(1, 1),\n",
    "                     activation='relu',\n",
    "                     input_shape = (28, 28, 1)))\n",
    "    \n",
    "    model.add(MaxPooling2D(pool_size = (2, 2), \n",
    "                           strides = (2, 2)))  \n",
    "    \n",
    "    model.add(Flatten())\n",
    "    model.add(Dense(100, activation='relu'))\n",
    "    model.add(Dense(num_classes, activation='softmax'))\n",
    "    \n",
    "    #compiling model\n",
    "    model.compile(optimizer='adam', loss = 'categorical_crossentropy',\n",
    "                  metrics=['accuracy'])\n",
    "    \n",
    "    return model"
   ]
  },
  {
   "cell_type": "code",
   "execution_count": 27,
   "metadata": {},
   "outputs": [
    {
     "name": "stdout",
     "output_type": "stream",
     "text": [
      "Epoch 1/10\n",
      "300/300 - 12s - loss: 0.3028 - accuracy: 0.9192 - val_loss: 0.1038 - val_accuracy: 0.9694 - 12s/epoch - 39ms/step\n",
      "Epoch 2/10\n",
      "300/300 - 10s - loss: 0.0826 - accuracy: 0.9763 - val_loss: 0.0655 - val_accuracy: 0.9804 - 10s/epoch - 32ms/step\n",
      "Epoch 3/10\n",
      "300/300 - 10s - loss: 0.0548 - accuracy: 0.9834 - val_loss: 0.0497 - val_accuracy: 0.9850 - 10s/epoch - 32ms/step\n",
      "Epoch 4/10\n",
      "300/300 - 10s - loss: 0.0414 - accuracy: 0.9877 - val_loss: 0.0434 - val_accuracy: 0.9858 - 10s/epoch - 34ms/step\n",
      "Epoch 5/10\n",
      "300/300 - 10s - loss: 0.0339 - accuracy: 0.9901 - val_loss: 0.0393 - val_accuracy: 0.9869 - 10s/epoch - 32ms/step\n",
      "Epoch 6/10\n",
      "300/300 - 10s - loss: 0.0278 - accuracy: 0.9916 - val_loss: 0.0358 - val_accuracy: 0.9876 - 10s/epoch - 32ms/step\n",
      "Epoch 7/10\n",
      "300/300 - 9s - loss: 0.0223 - accuracy: 0.9933 - val_loss: 0.0408 - val_accuracy: 0.9861 - 9s/epoch - 31ms/step\n",
      "Epoch 8/10\n",
      "300/300 - 9s - loss: 0.0182 - accuracy: 0.9948 - val_loss: 0.0375 - val_accuracy: 0.9877 - 9s/epoch - 31ms/step\n",
      "Epoch 9/10\n",
      "300/300 - 9s - loss: 0.0155 - accuracy: 0.9952 - val_loss: 0.0385 - val_accuracy: 0.9886 - 9s/epoch - 31ms/step\n",
      "Epoch 10/10\n",
      "300/300 - 9s - loss: 0.0134 - accuracy: 0.9959 - val_loss: 0.0379 - val_accuracy: 0.9882 - 9s/epoch - 31ms/step\n",
      "Accuracy : 0.9882000088691711 \n",
      " Error : 1.1799991130828857\n"
     ]
    }
   ],
   "source": [
    "#calling fn and training and testing model\n",
    "model = cnn_model()\n",
    "\n",
    "# fit the model\n",
    "model.fit(X_train, y_train, validation_data=(X_test, y_test), \n",
    "          epochs=10, batch_size=200, verbose=2)\n",
    "\n",
    "# evaluate the model\n",
    "scores = model.evaluate(X_test, y_test, verbose=0)\n",
    "print(\"Accuracy : {} \\n Error : {}\".format(scores[1], 100-scores[1]*100))"
   ]
  },
  {
   "cell_type": "code",
   "execution_count": null,
   "metadata": {},
   "outputs": [],
   "source": []
  }
 ],
 "metadata": {
  "kernelspec": {
   "display_name": "Python 3",
   "language": "python",
   "name": "python3"
  },
  "language_info": {
   "codemirror_mode": {
    "name": "ipython",
    "version": 3
   },
   "file_extension": ".py",
   "mimetype": "text/x-python",
   "name": "python",
   "nbconvert_exporter": "python",
   "pygments_lexer": "ipython3",
   "version": "3.11.4"
  }
 },
 "nbformat": 4,
 "nbformat_minor": 2
}
