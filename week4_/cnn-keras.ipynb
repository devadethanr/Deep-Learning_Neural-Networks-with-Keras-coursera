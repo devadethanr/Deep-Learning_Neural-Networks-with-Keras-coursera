{
 "cells": [
  {
   "cell_type": "code",
   "execution_count": 6,
   "metadata": {},
   "outputs": [],
   "source": [
    "import keras\n",
    "from keras.models import Sequential\n",
    "from keras.layers import Dense\n",
    "from keras.layers import Conv2D\n",
    "from keras.layers import MaxPooling2D, Flatten"
   ]
  },
  {
   "cell_type": "code",
   "execution_count": null,
   "metadata": {},
   "outputs": [],
   "source": [
    "model = Sequential()\n",
    "\n",
    "#shape of image and number of image = 3 for rgb\n",
    "input_shape = (128,128,3)\n",
    "\n",
    "#adding convolutional and pooling layers\n",
    "model.add(Conv2D(16, kernel_size=(2, 2), strides=(1,1),\n",
    "                 activation='relu',\n",
    "                 input_shape=input_shape))\n",
    "model.add(MaxPooling2D(pool_size=(2, 2), strides=(2, 2)))\n",
    "#second con and pool layers\n",
    "model.add(Conv2D(32, kernel_size=(2, 2), activation='relu'))\n",
    "model.add(MaxPooling2D(pool_size=(2, 2)))\n",
    "\n",
    "#flatter to convert output for the dense layer for fully connected network\n",
    "model.add(Flatten())\n",
    "#adding fully connected layers by putting dense layers as hidden layers\n",
    "model.add(Dense(100, activation='relu'))\n",
    "#output layer and creating probabilty of output using softmax fn for categorizing\n",
    "model.add(Dense(num_classes, activation='softmax'))\n"
   ]
  }
 ],
 "metadata": {
  "kernelspec": {
   "display_name": "Python 3",
   "language": "python",
   "name": "python3"
  },
  "language_info": {
   "codemirror_mode": {
    "name": "ipython",
    "version": 3
   },
   "file_extension": ".py",
   "mimetype": "text/x-python",
   "name": "python",
   "nbconvert_exporter": "python",
   "pygments_lexer": "ipython3",
   "version": "3.11.4"
  }
 },
 "nbformat": 4,
 "nbformat_minor": 2
}
