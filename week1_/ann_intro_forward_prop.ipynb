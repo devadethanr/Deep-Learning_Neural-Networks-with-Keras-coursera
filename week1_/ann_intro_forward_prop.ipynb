{
 "cells": [
  {
   "cell_type": "code",
   "execution_count": 1,
   "metadata": {},
   "outputs": [],
   "source": [
    "import numpy as np\n",
    "weights = np.around(np.random.uniform(size=6), decimals=2)\n",
    "biases = np.around(np.random.uniform(size=3), decimals=2)\n"
   ]
  },
  {
   "cell_type": "code",
   "execution_count": 2,
   "metadata": {},
   "outputs": [
    {
     "name": "stdout",
     "output_type": "stream",
     "text": [
      "[0.71 0.18 0.28 0.39 0.07 0.08]\n",
      "[0.74 0.3  0.79]\n"
     ]
    }
   ],
   "source": [
    "print(weights)\n",
    "print(biases)"
   ]
  },
  {
   "cell_type": "code",
   "execution_count": 3,
   "metadata": {},
   "outputs": [
    {
     "name": "stdout",
     "output_type": "stream",
     "text": [
      "x1 0.5 and x2 0.85\n"
     ]
    }
   ],
   "source": [
    "#computing outputs for the given x1 and x2\n",
    "x_1 = 0.5\n",
    "x_2 = 0.85 #input 2\n",
    "\n",
    "print('x1 {} and x2 {}'.format(x_1,x_2))"
   ]
  },
  {
   "cell_type": "code",
   "execution_count": 4,
   "metadata": {},
   "outputs": [
    {
     "name": "stdout",
     "output_type": "stream",
     "text": [
      "the wghtd sum of the inputs at 1st node in hidden layer is 1.248\n"
     ]
    }
   ],
   "source": [
    "#computing the weighted sum of imputs z1,1 at 1st hidden layer\n",
    "z_11 = x_1 * weights[0] + x_2 * weights[1] + biases[0]\n",
    "print(\"the wghtd sum of the inputs at 1st node in hidden layer is {}\".format(z_11))"
   ]
  },
  {
   "cell_type": "code",
   "execution_count": 5,
   "metadata": {},
   "outputs": [
    {
     "name": "stdout",
     "output_type": "stream",
     "text": [
      "The weighted sum of the inputs at the 2nd node in the hidden layer is 0.7715000000000001\n"
     ]
    }
   ],
   "source": [
    "z_12 = x_1 * weights[2] + x_2 * weights[3] + biases[1]\n",
    "print('The weighted sum of the inputs at the 2nd node in the hidden layer is {}'.format(z_12))"
   ]
  },
  {
   "cell_type": "code",
   "execution_count": 6,
   "metadata": {},
   "outputs": [
    {
     "name": "stdout",
     "output_type": "stream",
     "text": [
      "The activation of the first node in the hidden layer is 0.777\n"
     ]
    }
   ],
   "source": [
    "#computing the activision of first node using sigmoid\n",
    "a_11 = 1.0/(1.0 + np.exp(-z_11))\n",
    "print('The activation of the first node in the hidden layer is {}'.format(np.around(a_11, decimals=4)))"
   ]
  },
  {
   "cell_type": "code",
   "execution_count": 7,
   "metadata": {},
   "outputs": [
    {
     "name": "stdout",
     "output_type": "stream",
     "text": [
      "The activation of the 2nd node in the hidden layer is 0.6838\n"
     ]
    }
   ],
   "source": [
    "#2nd node activision\n",
    "a_12 = 1.0/(1.0 + np.exp(-z_12))\n",
    "print('The activation of the 2nd node in the hidden layer is {}'.format(np.around(a_12, decimals=4)))"
   ]
  },
  {
   "cell_type": "code",
   "execution_count": 8,
   "metadata": {},
   "outputs": [
    {
     "name": "stdout",
     "output_type": "stream",
     "text": [
      "The weighted sum of the inputs at the node in the output layer is 0.8991\n"
     ]
    }
   ],
   "source": [
    "#activision as the input for the output layers\n",
    "\n",
    "z_2 = a_11 * weights[4] + a_12 * weights[5] + biases[2];\n",
    "print('The weighted sum of the inputs at the node in the output layer is {}'.format(np.around(z_2, decimals=4)))"
   ]
  },
  {
   "cell_type": "code",
   "execution_count": 9,
   "metadata": {},
   "outputs": [
    {
     "name": "stdout",
     "output_type": "stream",
     "text": [
      "The output of the network for x1 = 0.5 and x2 = 0.85 is 0.7108\n"
     ]
    }
   ],
   "source": [
    "#output layer value to activision of node\n",
    "a_2 = 1.0/(1.0 + np.exp(-z_2))\n",
    "print('The output of the network for x1 = 0.5 and x2 = 0.85 is {}'.format(np.around(a_2, decimals=4)))"
   ]
  },
  {
   "cell_type": "markdown",
   "metadata": {},
   "source": [
    "## creating a network with n nodes"
   ]
  },
  {
   "cell_type": "markdown",
   "metadata": {},
   "source": [
    "### initialize network"
   ]
  },
  {
   "cell_type": "code",
   "execution_count": 2,
   "metadata": {},
   "outputs": [],
   "source": [
    "#structure of simple network\n",
    "\n",
    "n = 2 #no of hidden layers\n",
    "num_hidden_layers = 2\n",
    "m = [2,2] #no of nodes in each hidden layers\n",
    "num_nodes_output = 1 #output of the network - nodes\n"
   ]
  },
  {
   "cell_type": "code",
   "execution_count": 4,
   "metadata": {},
   "outputs": [
    {
     "name": "stdout",
     "output_type": "stream",
     "text": [
      "{'output': {'node_1': {'weights': array([0.04, 0.18]), 'bias': array([0.3])}}}\n"
     ]
    }
   ],
   "source": [
    "#initializing weights and biases using random numbers\n",
    "import numpy as np\n",
    "\n",
    "num_nodes_previous = n #no of nodes in previous layer\n",
    "network = {} \n",
    "\n",
    "for layer in range(num_hidden_layers + 1):\n",
    "    if layer == num_hidden_layers:\n",
    "        layer_name = 'output'\n",
    "        num_nodes = num_nodes_output\n",
    "    else:\n",
    "        layer_name = 'layer_{}'.format(layer + 1)\n",
    "        num_nodes = m[layer]\n",
    "    \n",
    "\n",
    "#initialise weights and biases\n",
    "network[layer_name] = {}\n",
    "for node in range(num_nodes):\n",
    "    node_name = 'node_{}'.format(node+1)\n",
    "    network[layer_name][node_name] = {\n",
    "        'weights': np.around(np.random.uniform(size = num_nodes_previous), decimals = 2),\n",
    "        'bias': np.around(np.random.uniform(size = 1), decimals = 2),\n",
    "    }\n",
    "num_nodes_previous = num_nodes\n",
    "\n",
    "print(network)"
   ]
  },
  {
   "cell_type": "code",
   "execution_count": 5,
   "metadata": {},
   "outputs": [],
   "source": [
    "#putting above code in a general function to construct a neural network\n",
    "\n",
    "def initialize_network(num_inputs, num_hidden_layers, num_nodes_hidden, num_nodes_output):\n",
    "    num_nodes_previous = num_inputs #no of nodes from prevs layer\n",
    "    network = {}\n",
    "    \n",
    "    for layer in range(num_hidden_layers + 1):\n",
    "        if layer == num_hidden_layers:\n",
    "            layer_name = 'output'\n",
    "            num_nodes = num_nodes_output\n",
    "        else:\n",
    "            layer_name = 'layer_{}'.format(layer + 1)\n",
    "            num_nodes = num_nodes_hidden[layer] #if layer is not the last  layer then name layer with a number\n",
    "            \n",
    "        #initialise weights and biases\n",
    "        network[layer_name] = {}\n",
    "        for node in range(num_nodes):\n",
    "            node_name = 'node_{}'.format(node+1)\n",
    "            network[layer_name][node_name] = {\n",
    "                'weights': np.around(np.random.uniform(size = num_nodes_previous), decimals = 2),\n",
    "                'bias': np.around(np.random.uniform(size = 1), decimals = 2),\n",
    "            }\n",
    "        num_nodes_previous = num_nodes\n",
    "    return network"
   ]
  },
  {
   "cell_type": "code",
   "execution_count": 6,
   "metadata": {},
   "outputs": [
    {
     "data": {
      "text/plain": [
       "{'layer_1': {'node_1': {'weights': array([0.24, 0.21, 0.87, 0.55, 0.33]),\n",
       "   'bias': array([0.31])},\n",
       "  'node_2': {'weights': array([0.96, 0.9 , 0.11, 0.35, 0.2 ]),\n",
       "   'bias': array([0.26])},\n",
       "  'node_3': {'weights': array([0.46, 0.05, 0.71, 0.77, 0.16]),\n",
       "   'bias': array([0.42])}},\n",
       " 'layer_2': {'node_1': {'weights': array([0.  , 0.02, 0.72]),\n",
       "   'bias': array([0.52])},\n",
       "  'node_2': {'weights': array([0.31, 0.23, 0.78]), 'bias': array([0.66])}},\n",
       " 'layer_3': {'node_1': {'weights': array([0.78, 0.25]), 'bias': array([0.06])},\n",
       "  'node_2': {'weights': array([0.64, 0.36]), 'bias': array([0.56])},\n",
       "  'node_3': {'weights': array([0.29, 0.39]), 'bias': array([0.67])}},\n",
       " 'output': {'node_1': {'weights': array([0.9 , 0.81, 0.67]),\n",
       "   'bias': array([0.37])}}}"
      ]
     },
     "execution_count": 6,
     "metadata": {},
     "output_type": "execute_result"
    }
   ],
   "source": [
    "#creating a network using initialze network fn\n",
    "initialize_network(5,3,[3,2,3],1) "
   ]
  },
  {
   "cell_type": "code",
   "execution_count": null,
   "metadata": {},
   "outputs": [],
   "source": []
  }
 ],
 "metadata": {
  "kernelspec": {
   "display_name": "Python 3",
   "language": "python",
   "name": "python3"
  },
  "language_info": {
   "codemirror_mode": {
    "name": "ipython",
    "version": 3
   },
   "file_extension": ".py",
   "mimetype": "text/x-python",
   "name": "python",
   "nbconvert_exporter": "python",
   "pygments_lexer": "ipython3",
   "version": "3.11.4"
  }
 },
 "nbformat": 4,
 "nbformat_minor": 2
}
