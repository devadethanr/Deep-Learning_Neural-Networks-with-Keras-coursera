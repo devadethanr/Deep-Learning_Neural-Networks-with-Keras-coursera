{
 "cells": [
  {
   "cell_type": "code",
   "execution_count": 1,
   "metadata": {},
   "outputs": [],
   "source": [
    "import numpy as np\n",
    "weights = np.around(np.random.uniform(size=6), decimals=2)\n",
    "biases = np.around(np.random.uniform(size=3), decimals=2)\n"
   ]
  },
  {
   "cell_type": "code",
   "execution_count": 2,
   "metadata": {},
   "outputs": [
    {
     "name": "stdout",
     "output_type": "stream",
     "text": [
      "[0.71 0.18 0.28 0.39 0.07 0.08]\n",
      "[0.74 0.3  0.79]\n"
     ]
    }
   ],
   "source": [
    "print(weights)\n",
    "print(biases)"
   ]
  },
  {
   "cell_type": "code",
   "execution_count": 3,
   "metadata": {},
   "outputs": [
    {
     "name": "stdout",
     "output_type": "stream",
     "text": [
      "x1 0.5 and x2 0.85\n"
     ]
    }
   ],
   "source": [
    "#computing outputs for the given x1 and x2\n",
    "x_1 = 0.5\n",
    "x_2 = 0.85 #input 2\n",
    "\n",
    "print('x1 {} and x2 {}'.format(x_1,x_2))"
   ]
  },
  {
   "cell_type": "code",
   "execution_count": 4,
   "metadata": {},
   "outputs": [
    {
     "name": "stdout",
     "output_type": "stream",
     "text": [
      "the wghtd sum of the inputs at 1st node in hidden layer is 1.248\n"
     ]
    }
   ],
   "source": [
    "#computing the weighted sum of imputs z1,1 at 1st hidden layer\n",
    "z_11 = x_1 * weights[0] + x_2 * weights[1] + biases[0]\n",
    "print(\"the wghtd sum of the inputs at 1st node in hidden layer is {}\".format(z_11))"
   ]
  },
  {
   "cell_type": "code",
   "execution_count": 5,
   "metadata": {},
   "outputs": [
    {
     "name": "stdout",
     "output_type": "stream",
     "text": [
      "The weighted sum of the inputs at the 2nd node in the hidden layer is 0.7715000000000001\n"
     ]
    }
   ],
   "source": [
    "z_12 = x_1 * weights[2] + x_2 * weights[3] + biases[1]\n",
    "print('The weighted sum of the inputs at the 2nd node in the hidden layer is {}'.format(z_12))"
   ]
  },
  {
   "cell_type": "code",
   "execution_count": 6,
   "metadata": {},
   "outputs": [
    {
     "name": "stdout",
     "output_type": "stream",
     "text": [
      "The activation of the first node in the hidden layer is 0.777\n"
     ]
    }
   ],
   "source": [
    "#computing the activision of first node using sigmoid\n",
    "a_11 = 1.0/(1.0 + np.exp(-z_11))\n",
    "print('The activation of the first node in the hidden layer is {}'.format(np.around(a_11, decimals=4)))"
   ]
  },
  {
   "cell_type": "code",
   "execution_count": 7,
   "metadata": {},
   "outputs": [
    {
     "name": "stdout",
     "output_type": "stream",
     "text": [
      "The activation of the 2nd node in the hidden layer is 0.6838\n"
     ]
    }
   ],
   "source": [
    "#2nd node activision\n",
    "a_12 = 1.0/(1.0 + np.exp(-z_12))\n",
    "print('The activation of the 2nd node in the hidden layer is {}'.format(np.around(a_12, decimals=4)))"
   ]
  },
  {
   "cell_type": "code",
   "execution_count": 8,
   "metadata": {},
   "outputs": [
    {
     "name": "stdout",
     "output_type": "stream",
     "text": [
      "The weighted sum of the inputs at the node in the output layer is 0.8991\n"
     ]
    }
   ],
   "source": [
    "#activision as the input for the output layers\n",
    "\n",
    "z_2 = a_11 * weights[4] + a_12 * weights[5] + biases[2];\n",
    "print('The weighted sum of the inputs at the node in the output layer is {}'.format(np.around(z_2, decimals=4)))"
   ]
  },
  {
   "cell_type": "code",
   "execution_count": 9,
   "metadata": {},
   "outputs": [
    {
     "name": "stdout",
     "output_type": "stream",
     "text": [
      "The output of the network for x1 = 0.5 and x2 = 0.85 is 0.7108\n"
     ]
    }
   ],
   "source": [
    "#output layer value to activision of node\n",
    "a_2 = 1.0/(1.0 + np.exp(-z_2))\n",
    "print('The output of the network for x1 = 0.5 and x2 = 0.85 is {}'.format(np.around(a_2, decimals=4)))"
   ]
  },
  {
   "cell_type": "markdown",
   "metadata": {},
   "source": [
    "## creating a network with n nodes"
   ]
  },
  {
   "cell_type": "markdown",
   "metadata": {},
   "source": [
    "### initialize network"
   ]
  },
  {
   "cell_type": "code",
   "execution_count": 2,
   "metadata": {},
   "outputs": [],
   "source": [
    "#structure of simple network\n",
    "\n",
    "n = 2 #no of hidden layers\n",
    "num_hidden_layers = 2\n",
    "m = [2,2] #no of nodes in each hidden layers\n",
    "num_nodes_output = 1 #output of the network - nodes\n"
   ]
  },
  {
   "cell_type": "code",
   "execution_count": 4,
   "metadata": {},
   "outputs": [
    {
     "name": "stdout",
     "output_type": "stream",
     "text": [
      "{'output': {'node_1': {'weights': array([0.04, 0.18]), 'bias': array([0.3])}}}\n"
     ]
    }
   ],
   "source": [
    "#initializing weights and biases using random numbers\n",
    "import numpy as np\n",
    "\n",
    "num_nodes_previous = n #no of nodes in previous layer\n",
    "network = {} \n",
    "\n",
    "for layer in range(num_hidden_layers + 1):\n",
    "    if layer == num_hidden_layers:\n",
    "        layer_name = 'output'\n",
    "        num_nodes = num_nodes_output\n",
    "    else:\n",
    "        layer_name = 'layer_{}'.format(layer + 1)\n",
    "        num_nodes = m[layer]\n",
    "    \n",
    "\n",
    "#initialise weights and biases\n",
    "network[layer_name] = {}\n",
    "for node in range(num_nodes):\n",
    "    node_name = 'node_{}'.format(node+1)\n",
    "    network[layer_name][node_name] = {\n",
    "        'weights': np.around(np.random.uniform(size = num_nodes_previous), decimals = 2),\n",
    "        'bias': np.around(np.random.uniform(size = 1), decimals = 2),\n",
    "    }\n",
    "num_nodes_previous = num_nodes\n",
    "\n",
    "print(network)"
   ]
  },
  {
   "cell_type": "code",
   "execution_count": 5,
   "metadata": {},
   "outputs": [],
   "source": [
    "#putting above code in a general function to construct a neural network\n",
    "\n",
    "def initialize_network(num_inputs, num_hidden_layers, num_nodes_hidden, num_nodes_output):\n",
    "    num_nodes_previous = num_inputs #no of nodes from prevs layer\n",
    "    network = {}\n",
    "    \n",
    "    for layer in range(num_hidden_layers + 1):\n",
    "        if layer == num_hidden_layers:\n",
    "            layer_name = 'output'\n",
    "            num_nodes = num_nodes_output\n",
    "        else:\n",
    "            layer_name = 'layer_{}'.format(layer + 1)\n",
    "            num_nodes = num_nodes_hidden[layer] #if layer is not the last  layer then name layer with a number\n",
    "            \n",
    "        #initialise weights and biases\n",
    "        network[layer_name] = {}\n",
    "        for node in range(num_nodes):\n",
    "            node_name = 'node_{}'.format(node+1)\n",
    "            network[layer_name][node_name] = {\n",
    "                'weights': np.around(np.random.uniform(size = num_nodes_previous), decimals = 2),\n",
    "                'bias': np.around(np.random.uniform(size = 1), decimals = 2),\n",
    "            }\n",
    "        num_nodes_previous = num_nodes\n",
    "    return network"
   ]
  },
  {
   "cell_type": "code",
   "execution_count": 9,
   "metadata": {},
   "outputs": [],
   "source": [
    "#creating a network using initialze network fn\n",
    "small_network = initialize_network(5,3,[3,2,3],1) "
   ]
  },
  {
   "cell_type": "code",
   "execution_count": 7,
   "metadata": {},
   "outputs": [],
   "source": [
    "#compute weighted sum at each node \n",
    "#dot product of inputs and the weights + bias\n",
    "def compute_weighted_sum(inputs, weights, bias):\n",
    "    return np.sum(inputs * weights) + bias"
   ]
  },
  {
   "cell_type": "code",
   "execution_count": 8,
   "metadata": {},
   "outputs": [
    {
     "name": "stdout",
     "output_type": "stream",
     "text": [
      "The inputs to the network are [0.15 0.74 0.26 0.53 0.01]\n"
     ]
    }
   ],
   "source": [
    "from random import seed\n",
    "import numpy as np\n",
    "\n",
    "np.random.seed(12)\n",
    "inputs = np.around(np.random.uniform(size = 5), decimals = 2)\n",
    "\n",
    "print('The inputs to the network are {}'. format(inputs))"
   ]
  },
  {
   "cell_type": "code",
   "execution_count": 10,
   "metadata": {},
   "outputs": [
    {
     "name": "stdout",
     "output_type": "stream",
     "text": [
      "The weighted sum at the first node in the hidden layer is 1.602\n"
     ]
    }
   ],
   "source": [
    "#compute weighted sum fn for finding first node in the hidden layer\n",
    "node_weights = small_network['layer_1']['node_1']['weights']\n",
    "node_bias =  small_network['layer_1']['node_1']['bias']\n",
    "\n",
    "weighted_sum = compute_weighted_sum(inputs, node_weights, node_bias)\n",
    "print('The weighted sum at the first node in the hidden layer is {}'.format(np.around(weighted_sum[0], decimals = 4)))"
   ]
  },
  {
   "cell_type": "code",
   "execution_count": 11,
   "metadata": {},
   "outputs": [],
   "source": [
    "#compute node activation\n",
    "def node_activation(weighted_sum):\n",
    "    return 1.0/(1.0 + np.exp(-1 * weighted_sum))"
   ]
  },
  {
   "cell_type": "code",
   "execution_count": 12,
   "metadata": {},
   "outputs": [
    {
     "name": "stdout",
     "output_type": "stream",
     "text": [
      "The output of the first node in the hidden layer is 0.8323\n"
     ]
    }
   ],
   "source": [
    "node_output = node_activation(compute_weighted_sum(inputs, node_weights, node_bias))\n",
    "print('The output of the first node in the hidden layer is {}'.format(np.around(node_output[0], decimals=4)))"
   ]
  },
  {
   "cell_type": "markdown",
   "metadata": {},
   "source": [
    "## forward  propagation"
   ]
  },
  {
   "cell_type": "code",
   "execution_count": 24,
   "metadata": {},
   "outputs": [],
   "source": [
    "def forward_propagate(network, inputs):\n",
    "    \n",
    "    layer_inputs = list(inputs) # start with the input layer as the input to the first hidden layer\n",
    "    \n",
    "    for layer in network:\n",
    "        \n",
    "        layer_data = network[layer]\n",
    "        \n",
    "        layer_outputs = [] \n",
    "        for layer_node in layer_data:\n",
    "        \n",
    "            node_data = layer_data[layer_node]\n",
    "        \n",
    "            # compute the weighted sum and the output of each node at the same time \n",
    "            node_output = node_activation(compute_weighted_sum(layer_inputs, node_data['weights'], node_data['bias']))\n",
    "            layer_outputs.append(np.around(node_output[0], decimals=4))\n",
    "            \n",
    "        if layer != 'output':\n",
    "            print('The outputs of the nodes in hidden layer number {} is {}'.format(layer.split('_')[1], layer_outputs))\n",
    "    \n",
    "        layer_inputs = layer_outputs # set the output of this layer to be the input to next layer\n",
    "\n",
    "    network_predictions = layer_outputs\n",
    "    return network_predictions"
   ]
  },
  {
   "cell_type": "code",
   "execution_count": 25,
   "metadata": {},
   "outputs": [
    {
     "name": "stdout",
     "output_type": "stream",
     "text": [
      "The outputs of the nodes in hidden layer number 1 is [0.8323, 0.8268, 0.7735]\n",
      "The outputs of the nodes in hidden layer number 2 is [0.7932, 0.8991]\n",
      "The outputs of the nodes in hidden layer number 3 is [0.8232, 0.8924, 0.8141]\n",
      "The predicted value by the network for the given input is 0.9112\n"
     ]
    }
   ],
   "source": [
    "predictions = forward_propagate(small_network, inputs)\n",
    "print('The predicted value by the network for the given input is {}'.format(np.around(predictions[0], decimals=4)))"
   ]
  }
 ],
 "metadata": {
  "kernelspec": {
   "display_name": "Python 3",
   "language": "python",
   "name": "python3"
  },
  "language_info": {
   "codemirror_mode": {
    "name": "ipython",
    "version": 3
   },
   "file_extension": ".py",
   "mimetype": "text/x-python",
   "name": "python",
   "nbconvert_exporter": "python",
   "pygments_lexer": "ipython3",
   "version": "3.11.4"
  }
 },
 "nbformat": 4,
 "nbformat_minor": 2
}
